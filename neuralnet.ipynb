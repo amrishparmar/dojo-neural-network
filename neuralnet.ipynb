{
  "nbformat": 4,
  "nbformat_minor": 0,
  "metadata": {
    "colab": {
      "name": "neuralnet.ipynb",
      "version": "0.3.2",
      "views": {},
      "default_view": {},
      "provenance": []
    },
    "kernelspec": {
      "name": "python3",
      "display_name": "Python 3"
    }
  },
  "cells": [
    {
      "metadata": {
        "id": "RL9be6AK1S0F",
        "colab_type": "code",
        "colab": {
          "autoexec": {
            "startup": false,
            "wait_interval": 0
          }
        }
      },
      "source": [
        "import numpy as np\n",
        "from matplotlib import pyplot as plt"
      ],
      "cell_type": "code",
      "execution_count": 0,
      "outputs": []
    },
    {
      "metadata": {
        "id": "whebXN2I1VR2",
        "colab_type": "code",
        "colab": {
          "autoexec": {
            "startup": false,
            "wait_interval": 0
          }
        }
      },
      "source": [
        "def train(l0, syn0, niter):\n",
        "    err = np.zeros(niter)\n",
        "    for i in range(niter):\n",
        "        # forward propagation\n",
        "        l0 = X\n",
        "        l1 = nonlin(np.dot(l0,syn0))\n",
        "\n",
        "        # how much did we miss?\n",
        "        l1_error = y - l1\n",
        "        err[i] = np.linalg.norm(l1_error)\n",
        "\n",
        "        # multiply how much we missed by the \n",
        "        # slope of the sigmoid at the values in l1\n",
        "        l1_delta = l1_error * nonlin(l1,True)\n",
        "\n",
        "        # update weights\n",
        "        syn0 += np.dot(l0.T,l1_delta)\n",
        "\n",
        "    return l1, err"
      ],
      "cell_type": "code",
      "execution_count": 0,
      "outputs": []
    },
    {
      "metadata": {
        "id": "HypZC0wY0H64",
        "colab_type": "code",
        "colab": {
          "autoexec": {
            "startup": false,
            "wait_interval": 0
          },
          "output_extras": [
            {
              "item_id": 1
            },
            {
              "item_id": 2
            }
          ],
          "base_uri": "https://localhost:8080/",
          "height": 431
        },
        "outputId": "024b2b2b-02ad-4f28-aba7-1c20b5d723ba",
        "executionInfo": {
          "status": "ok",
          "timestamp": 1515701853708,
          "user_tz": 0,
          "elapsed": 722,
          "user": {
            "displayName": "Florian Rathgeber",
            "photoUrl": "//lh5.googleusercontent.com/-pwowNI0gvJ0/AAAAAAAAAAI/AAAAAAABN4M/5slPtO2MMcE/s50-c-k-no/photo.jpg",
            "userId": "112983298713989864872"
          }
        }
      },
      "source": [
        "# sigmoid function\n",
        "def nonlin(x,deriv=False):\n",
        "    if(deriv==True):\n",
        "        return x*(1-x)\n",
        "    return 1/(1+np.exp(-x))\n",
        "    \n",
        "# input dataset\n",
        "X = np.array([  [0,0,1],\n",
        "                [0,1,1],\n",
        "                [1,0,1],\n",
        "                [1,1,1] ])\n",
        "    \n",
        "# output dataset            \n",
        "y = np.array([[0,0,1,1]]).T\n",
        "\n",
        "# seed random numbers to make calculation\n",
        "# deterministic (just a good practice)\n",
        "np.random.seed(1)\n",
        "\n",
        "# initialize weights randomly with mean 0\n",
        "syn0 = 2*np.random.random((3,1)) - 1\n",
        "\n",
        "l1, err = train(X, syn0, 2000)\n",
        "plt.plot(err)\n",
        "\n",
        "print(\"Output After Training:\")\n",
        "print(l1)"
      ],
      "cell_type": "code",
      "execution_count": 11,
      "outputs": [
        {
          "output_type": "stream",
          "text": [
            "Output After Training:\n",
            "[[0.02210697]\n",
            " [0.01793972]\n",
            " [0.98540523]\n",
            " [0.98200075]]\n"
          ],
          "name": "stdout"
        },
        {
          "output_type": "display_data",
          "data": {
            "image/png": "[encoded data removed]",
            "text/plain": [
              "<matplotlib.figure.Figure at 0x7f2ff8c3fe80>"
            ]
          },
          "metadata": {
            "tags": []
          }
        }
      ]
    },
    {
      "metadata": {
        "id": "uxWeOhJT2T0Z",
        "colab_type": "code",
        "colab": {
          "autoexec": {
            "startup": false,
            "wait_interval": 0
          },
          "output_extras": [
            {
              "item_id": 7
            }
          ],
          "base_uri": "https://localhost:8080/",
          "height": 252
        },
        "outputId": "2db90600-e239-429d-c21b-f6cdeefaba93",
        "executionInfo": {
          "status": "ok",
          "timestamp": 1515703241861,
          "user_tz": 0,
          "elapsed": 2511,
          "user": {
            "displayName": "Florian Rathgeber",
            "photoUrl": "//lh5.googleusercontent.com/-pwowNI0gvJ0/AAAAAAAAAAI/AAAAAAABN4M/5slPtO2MMcE/s50-c-k-no/photo.jpg",
            "userId": "112983298713989864872"
          }
        }
      },
      "source": [
        "import numpy as np\n",
        "\n",
        "def nonlin(x,deriv=False):\n",
        "\tif(deriv==True):\n",
        "\t    return x*(1-x)\n",
        "\n",
        "\treturn 1/(1+np.exp(-x))\n",
        "    \n",
        "X = np.array([[0,0,0],\n",
        "              [0,0,1],\n",
        "              [0,1,0],\n",
        "              [0,1,1],\n",
        "              [1,0,0],\n",
        "              [1,0,1],\n",
        "              [1,1,0],\n",
        "              [1,1,1]])\n",
        "                \n",
        "y = np.array([[0,0,1],\n",
        "              [0,1,0],\n",
        "              [0,1,1],\n",
        "              [1,0,0],\n",
        "              [1,0,1],\n",
        "              [1,1,0],\n",
        "              [1,1,1],\n",
        "              [0,0,0]])\n",
        "\n",
        "np.random.seed(1)\n",
        "\n",
        "# randomly initialize our weights with mean 0\n",
        "syn0 = 2*np.random.random((3,4)) - 1\n",
        "syn1 = 2*np.random.random((4,3)) - 1\n",
        "\n",
        "for j in range(60000):\n",
        "\n",
        "\t# Feed forward through layers 0, 1, and 2\n",
        "    l0 = X\n",
        "    l1 = nonlin(np.dot(l0,syn0))\n",
        "    l2 = nonlin(np.dot(l1,syn1))\n",
        "\n",
        "    # how much did we miss the target value?\n",
        "    l2_error = y - l2\n",
        "    \n",
        "    if (j% 10000) == 0:\n",
        "        print(\"Error:\" + str(np.mean(np.abs(l2_error))))\n",
        "        \n",
        "    # in what direction is the target value?\n",
        "    # were we really sure? if so, don't change too much.\n",
        "    l2_delta = l2_error*nonlin(l2,deriv=True)\n",
        "\n",
        "    # how much did each l1 value contribute to the l2 error (according to the weights)?\n",
        "    l1_error = l2_delta.dot(syn1.T)\n",
        "    \n",
        "    # in what direction is the target l1?\n",
        "    # were we really sure? if so, don't change too much.\n",
        "    l1_delta = l1_error * nonlin(l1,deriv=True)\n",
        "\n",
        "    syn1 += l1.T.dot(l2_delta)\n",
        "    syn0 += l0.T.dot(l1_delta)\n",
        "\n",
        "print(np.round(l2, 2))"
      ],
      "cell_type": "code",
      "execution_count": 19,
      "outputs": [
        {
          "output_type": "stream",
          "text": [
            "Error:0.49971668796083607\n",
            "Error:0.0220967505054539\n",
            "Error:0.015097996748951863\n",
            "Error:0.012160669856400888\n",
            "Error:0.010449184073220612\n",
            "Error:0.009296756774134309\n",
            "[[0.01 0.02 1.  ]\n",
            " [0.   0.99 0.  ]\n",
            " [0.   0.98 1.  ]\n",
            " [0.98 0.   0.  ]\n",
            " [1.   0.   1.  ]\n",
            " [0.98 0.98 0.01]\n",
            " [0.99 0.99 0.99]\n",
            " [0.02 0.02 0.  ]]\n"
          ],
          "name": "stdout"
        }
      ]
    },
    {
      "metadata": {
        "id": "HTkKdoOY6KqW",
        "colab_type": "code",
        "colab": {
          "autoexec": {
            "startup": false,
            "wait_interval": 0
          }
        }
      },
      "source": [
        ""
      ],
      "cell_type": "code",
      "execution_count": 0,
      "outputs": []
    }
  ]
}