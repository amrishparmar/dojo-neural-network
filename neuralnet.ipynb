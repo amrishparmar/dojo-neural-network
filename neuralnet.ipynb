{
  "nbformat": 4,
  "nbformat_minor": 0,
  "metadata": {
    "colab": {
      "name": "neuralnet.ipynb",
      "version": "0.3.2",
      "views": {},
      "default_view": {},
      "provenance": []
    },
    "kernelspec": {
      "name": "python3",
      "display_name": "Python 3"
    }
  },
  "cells": [
    {
      "metadata": {
        "id": "RL9be6AK1S0F",
        "colab_type": "code",
        "colab": {
          "autoexec": {
            "startup": false,
            "wait_interval": 0
          }
        }
      },
      "source": [
        "import numpy as np\n",
        "from matplotlib import pyplot as plt"
      ],
      "cell_type": "code",
      "execution_count": 0,
      "outputs": []
    },
    {
      "metadata": {
        "id": "whebXN2I1VR2",
        "colab_type": "code",
        "colab": {
          "autoexec": {
            "startup": false,
            "wait_interval": 0
          }
        }
      },
      "source": [
        "def train(l0, syn0, niter):\n",
        "    err = np.zeros(niter)\n",
        "    for i in range(niter):\n",
        "        # forward propagation\n",
        "        l0 = X\n",
        "        l1 = nonlin(np.dot(l0,syn0))\n",
        "\n",
        "        # how much did we miss?\n",
        "        l1_error = y - l1\n",
        "        err[i] = np.linalg.norm(l1_error)\n",
        "\n",
        "        # multiply how much we missed by the \n",
        "        # slope of the sigmoid at the values in l1\n",
        "        l1_delta = l1_error * nonlin(l1,True)\n",
        "\n",
        "        # update weights\n",
        "        syn0 += np.dot(l0.T,l1_delta)\n",
        "\n",
        "    return l1, err"
      ],
      "cell_type": "code",
      "execution_count": 0,
      "outputs": []
    },
    {
      "metadata": {
        "id": "HypZC0wY0H64",
        "colab_type": "code",
        "colab": {
          "autoexec": {
            "startup": false,
            "wait_interval": 0
          },
          "output_extras": [
            {
              "item_id": 1
            },
            {
              "item_id": 2
            }
          ],
          "base_uri": "https://localhost:8080/",
          "height": 431
        },
        "outputId": "024b2b2b-02ad-4f28-aba7-1c20b5d723ba",
        "executionInfo": {
          "status": "ok",
          "timestamp": 1515701853708,
          "user_tz": 0,
          "elapsed": 722,
          "user": {
            "displayName": "Florian Rathgeber",
            "photoUrl": "//lh5.googleusercontent.com/-pwowNI0gvJ0/AAAAAAAAAAI/AAAAAAABN4M/5slPtO2MMcE/s50-c-k-no/photo.jpg",
            "userId": "112983298713989864872"
          }
        }
      },
      "source": [
        "# sigmoid function\n",
        "def nonlin(x,deriv=False):\n",
        "    if(deriv==True):\n",
        "        return x*(1-x)\n",
        "    return 1/(1+np.exp(-x))\n",
        "    \n",
        "# input dataset\n",
        "X = np.array([  [0,0,1],\n",
        "                [0,1,1],\n",
        "                [1,0,1],\n",
        "                [1,1,1] ])\n",
        "    \n",
        "# output dataset            \n",
        "y = np.array([[0,0,1,1]]).T\n",
        "\n",
        "# seed random numbers to make calculation\n",
        "# deterministic (just a good practice)\n",
        "np.random.seed(1)\n",
        "\n",
        "# initialize weights randomly with mean 0\n",
        "syn0 = 2*np.random.random((3,1)) - 1\n",
        "\n",
        "l1, err = train(X, syn0, 2000)\n",
        "plt.plot(err)\n",
        "\n",
        "print(\"Output After Training:\")\n",
        "print(l1)"
      ],
      "cell_type": "code",
      "execution_count": 11,
      "outputs": [
        {
          "output_type": "stream",
          "text": [
            "Output After Training:\n",
            "[[0.02210697]\n",
            " [0.01793972]\n",
            " [0.98540523]\n",
            " [0.98200075]]\n"
          ],
          "name": "stdout"
        },
        {
          "output_type": "display_data",
          "data": {
            "image/png": "[encoded data removed]",
            "text/plain": [
              "<matplotlib.figure.Figure at 0x7f2ff8c3fe80>"
            ]
          },
          "metadata": {
            "tags": []
          }
        }
      ]
    },
    {
      "metadata": {
        "id": "uxWeOhJT2T0Z",
        "colab_type": "code",
        "colab": {
          "autoexec": {
            "startup": false,
            "wait_interval": 0
          }
        }
      },
      "source": [
        "import numpy as np\n",
        "\n",
        "def nonlin(x,deriv=False):\n",
        "\tif(deriv==True):\n",
        "\t    return x*(1-x)\n",
        "\n",
        "\treturn 1/(1+np.exp(-x))\n",
        "    \n",
        "def adder(X, y, seed=1):\n",
        "    np.random.seed(seed)\n",
        "\n",
        "    # randomly initialize our weights with mean 0\n",
        "    syn0 = 2*np.random.random((3,4)) - 1\n",
        "    syn1 = 2*np.random.random((4,3)) - 1\n",
        "\n",
        "    niter = 10000\n",
        "    err = np.zeros(niter)\n",
        "    for j in range(niter):\n",
        "\n",
        "      # Feed forward through layers 0, 1, and 2\n",
        "        l0 = X\n",
        "        l1 = nonlin(np.dot(l0,syn0))\n",
        "        l2 = nonlin(np.dot(l1,syn1))\n",
        "\n",
        "        # how much did we miss the target value?\n",
        "        l2_error = y - l2\n",
        "\n",
        "        err[j] = np.linalg.norm(l2_error)\n",
        "\n",
        "        # in what direction is the target value?\n",
        "        # were we really sure? if so, don't change too much.\n",
        "        l2_delta = l2_error*nonlin(l2,deriv=True)\n",
        "\n",
        "        # how much did each l1 value contribute to the l2 error (according to the weights)?\n",
        "        l1_error = l2_delta.dot(syn1.T)\n",
        "\n",
        "        # in what direction is the target l1?\n",
        "        # were we really sure? if so, don't change too much.\n",
        "        l1_delta = l1_error * nonlin(l1,deriv=True)\n",
        "\n",
        "        syn1 += l1.T.dot(l2_delta)\n",
        "        syn0 += l0.T.dot(l1_delta)\n",
        "\n",
        "    print('Seed:', seed)\n",
        "    print(np.round(l2, 2))\n",
        "    plt.plot(err, label='Seed = %d' % seed)\n",
        "    plt.legend();"
      ],
      "cell_type": "code",
      "execution_count": 0,
      "outputs": []
    },
    {
      "metadata": {
        "id": "HTkKdoOY6KqW",
        "colab_type": "code",
        "colab": {
          "autoexec": {
            "startup": false,
            "wait_interval": 0
          },
          "output_extras": [
            {
              "item_id": 5
            },
            {
              "item_id": 6
            }
          ],
          "base_uri": "https://localhost:8080/",
          "height": 1019
        },
        "outputId": "a57a3c18-6e1c-47e0-cff9-bd69e88951ad",
        "executionInfo": {
          "status": "ok",
          "timestamp": 1515704101666,
          "user_tz": 0,
          "elapsed": 3073,
          "user": {
            "displayName": "Florian Rathgeber",
            "photoUrl": "//lh5.googleusercontent.com/-pwowNI0gvJ0/AAAAAAAAAAI/AAAAAAABN4M/5slPtO2MMcE/s50-c-k-no/photo.jpg",
            "userId": "112983298713989864872"
          }
        }
      },
      "source": [
        "X = np.array([[0,0,0],\n",
        "              [0,0,1],\n",
        "              [0,1,0],\n",
        "              [0,1,1],\n",
        "              [1,0,0],\n",
        "              [1,0,1],\n",
        "              [1,1,0]])\n",
        "                \n",
        "y = np.array([[0,0,1],\n",
        "              [0,1,0],\n",
        "              [0,1,1],\n",
        "              [1,0,0],\n",
        "              [1,0,1],\n",
        "              [1,1,0],\n",
        "              [1,1,1]])\n",
        "\n",
        "for seed in range(5):\n",
        "    adder(X, y, seed=seed)"
      ],
      "cell_type": "code",
      "execution_count": 43,
      "outputs": [
        {
          "output_type": "stream",
          "text": [
            "Seed: 0\n",
            "[[0.   0.04 0.99]\n",
            " [0.01 0.98 0.  ]\n",
            " [0.03 0.97 1.  ]\n",
            " [0.99 0.02 0.01]\n",
            " [1.   0.   0.99]\n",
            " [0.99 0.99 0.  ]\n",
            " [0.98 1.   0.99]]\n",
            "Seed: 1\n",
            "[[0.   0.03 0.99]\n",
            " [0.   1.   0.  ]\n",
            " [0.03 0.97 0.99]\n",
            " [0.98 0.02 0.01]\n",
            " [0.99 0.02 1.  ]\n",
            " [0.99 0.99 0.  ]\n",
            " [0.98 0.99 0.99]]\n",
            "Seed: 2\n",
            "[[0.   0.03 0.99]\n",
            " [0.   0.98 0.  ]\n",
            " [0.02 0.98 1.  ]\n",
            " [1.   0.02 0.02]\n",
            " [1.   0.   0.99]\n",
            " [0.99 0.99 0.  ]\n",
            " [0.98 0.99 0.99]]\n",
            "Seed: 3\n",
            "[[0.   0.03 0.99]\n",
            " [0.01 0.98 0.  ]\n",
            " [0.02 0.98 1.  ]\n",
            " [0.99 0.02 0.02]\n",
            " [1.   0.   0.99]\n",
            " [0.99 0.99 0.  ]\n",
            " [0.98 0.99 0.99]]\n",
            "Seed: 4\n",
            "[[0.   0.03 0.99]\n",
            " [0.   0.98 0.01]\n",
            " [0.02 0.97 1.  ]\n",
            " [0.99 0.02 0.01]\n",
            " [1.   0.   0.99]\n",
            " [0.99 0.99 0.01]\n",
            " [0.98 0.99 1.  ]]\n"
          ],
          "name": "stdout"
        },
        {
          "output_type": "display_data",
          "data": {
            "image/png": "[encoded data removed]",
            "text/plain": [
              "<matplotlib.figure.Figure at 0x7f2ff8a75be0>"
            ]
          },
          "metadata": {
            "tags": []
          }
        }
      ]
    },
    {
      "metadata": {
        "id": "kJBxdMgX_KFq",
        "colab_type": "code",
        "colab": {
          "autoexec": {
            "startup": false,
            "wait_interval": 0
          },
          "output_extras": [
            {
              "item_id": 5
            },
            {
              "item_id": 6
            }
          ],
          "base_uri": "https://localhost:8080/",
          "height": 1103
        },
        "outputId": "2d2af750-d555-4c81-99fd-1994d1957ee6",
        "executionInfo": {
          "status": "ok",
          "timestamp": 1515704106846,
          "user_tz": 0,
          "elapsed": 3150,
          "user": {
            "displayName": "Florian Rathgeber",
            "photoUrl": "//lh5.googleusercontent.com/-pwowNI0gvJ0/AAAAAAAAAAI/AAAAAAABN4M/5slPtO2MMcE/s50-c-k-no/photo.jpg",
            "userId": "112983298713989864872"
          }
        }
      },
      "source": [
        "X = np.array([[0,0,0],\n",
        "              [0,0,1],\n",
        "              [0,1,0],\n",
        "              [0,1,1],\n",
        "              [1,0,0],\n",
        "              [1,0,1],\n",
        "              [1,1,0],\n",
        "              [1,1,1]])\n",
        "                \n",
        "y = np.array([[0,0,1],\n",
        "              [0,1,0],\n",
        "              [0,1,1],\n",
        "              [1,0,0],\n",
        "              [1,0,1],\n",
        "              [1,1,0],\n",
        "              [1,1,1],\n",
        "              [0,0,0]])\n",
        "\n",
        "for seed in range(5):\n",
        "    adder(X, y, seed=seed)"
      ],
      "cell_type": "code",
      "execution_count": 44,
      "outputs": [
        {
          "output_type": "stream",
          "text": [
            "Seed: 0\n",
            "[[0.08 0.1  0.97]\n",
            " [0.   1.   0.  ]\n",
            " [0.09 1.   1.  ]\n",
            " [1.   0.11 0.  ]\n",
            " [1.   0.   1.  ]\n",
            " [0.9  0.85 0.  ]\n",
            " [0.89 0.92 1.  ]\n",
            " [0.6  0.48 0.23]]\n",
            "Seed: 1\n",
            "[[0.03 0.06 1.  ]\n",
            " [0.01 0.97 0.  ]\n",
            " [0.   0.96 1.  ]\n",
            " [0.95 0.   0.  ]\n",
            " [1.   0.01 0.99]\n",
            " [0.95 0.95 0.02]\n",
            " [0.97 0.97 0.98]\n",
            " [0.06 0.04 0.  ]]\n",
            "Seed: 2\n",
            "[[0.02 0.02 0.99]\n",
            " [0.33 0.33 0.  ]\n",
            " [0.   0.98 1.  ]\n",
            " [0.33 0.33 0.  ]\n",
            " [0.98 0.01 0.99]\n",
            " [1.   0.98 0.01]\n",
            " [0.99 1.   0.99]\n",
            " [0.33 0.33 0.  ]]\n",
            "Seed: 3\n",
            "[[0.   0.04 1.  ]\n",
            " [0.08 0.92 0.01]\n",
            " [0.09 0.93 1.  ]\n",
            " [0.88 0.08 0.01]\n",
            " [0.89 0.06 0.98]\n",
            " [1.   0.99 0.  ]\n",
            " [0.99 0.99 1.  ]\n",
            " [0.1  0.   0.02]]\n",
            "Seed: 4\n",
            "[[0.04 0.12 0.99]\n",
            " [0.   0.97 0.  ]\n",
            " [0.   0.93 1.  ]\n",
            " [0.9  0.   0.01]\n",
            " [1.   0.   0.99]\n",
            " [0.94 0.94 0.01]\n",
            " [1.   1.   1.  ]\n",
            " [0.07 0.1  0.  ]]\n"
          ],
          "name": "stdout"
        },
        {
          "output_type": "display_data",
          "data": {
            "image/png": "[encoded data removed]",
            "text/plain": [
              "<matplotlib.figure.Figure at 0x7f2ffaecf7f0>"
            ]
          },
          "metadata": {
            "tags": []
          }
        }
      ]
    },
    {
      "metadata": {
        "id": "xV2h8Wiu_PhJ",
        "colab_type": "code",
        "colab": {
          "autoexec": {
            "startup": false,
            "wait_interval": 0
          },
          "output_extras": [
            {
              "item_id": 5
            },
            {
              "item_id": 6
            }
          ],
          "base_uri": "https://localhost:8080/",
          "height": 1103
        },
        "outputId": "0997f68e-01d1-4bb8-d7d8-e4dbe5dc4914",
        "executionInfo": {
          "status": "ok",
          "timestamp": 1515704401463,
          "user_tz": 0,
          "elapsed": 3288,
          "user": {
            "displayName": "Florian Rathgeber",
            "photoUrl": "//lh5.googleusercontent.com/-pwowNI0gvJ0/AAAAAAAAAAI/AAAAAAABN4M/5slPtO2MMcE/s50-c-k-no/photo.jpg",
            "userId": "112983298713989864872"
          }
        }
      },
      "source": [
        "X = np.array([[0,0,0],\n",
        "              [0,0,1],\n",
        "              [0,1,0],\n",
        "              [0,1,1],\n",
        "              [1,0,0],\n",
        "              [1,0,1],\n",
        "              [1,1,0],\n",
        "              [1,1,1]])\n",
        "                \n",
        "y = np.array([[1,1,1],\n",
        "              [1,1,0],\n",
        "              [1,0,1],\n",
        "              [1,0,0],\n",
        "              [0,1,1],\n",
        "              [0,1,0],\n",
        "              [0,0,1],\n",
        "              [0,0,0]])\n",
        "\n",
        "for seed in range(5):\n",
        "    adder(X, y, seed=seed)"
      ],
      "cell_type": "code",
      "execution_count": 45,
      "outputs": [
        {
          "output_type": "stream",
          "text": [
            "Seed: 0\n",
            "[[0.98 0.99 0.98]\n",
            " [1.   0.99 0.  ]\n",
            " [1.   0.   1.  ]\n",
            " [1.   0.01 0.01]\n",
            " [0.01 0.99 1.  ]\n",
            " [0.01 0.99 0.01]\n",
            " [0.01 0.01 0.99]\n",
            " [0.   0.01 0.  ]]\n",
            "Seed: 1\n",
            "[[0.98 0.98 0.98]\n",
            " [1.   0.99 0.  ]\n",
            " [1.   0.   1.  ]\n",
            " [0.99 0.01 0.01]\n",
            " [0.01 1.   1.  ]\n",
            " [0.01 0.99 0.01]\n",
            " [0.01 0.   0.99]\n",
            " [0.   0.01 0.01]]\n",
            "Seed: 2\n",
            "[[0.98 0.98 0.99]\n",
            " [0.99 1.   0.  ]\n",
            " [0.99 0.   0.99]\n",
            " [0.99 0.01 0.01]\n",
            " [0.   0.99 0.99]\n",
            " [0.01 0.99 0.01]\n",
            " [0.01 0.01 1.  ]\n",
            " [0.01 0.01 0.01]]\n",
            "Seed: 3\n",
            "[[0.98 0.99 0.98]\n",
            " [1.   0.99 0.  ]\n",
            " [0.99 0.   1.  ]\n",
            " [0.99 0.01 0.  ]\n",
            " [0.   0.99 0.99]\n",
            " [0.01 1.   0.01]\n",
            " [0.02 0.01 0.99]\n",
            " [0.   0.01 0.01]]\n",
            "Seed: 4\n",
            "[[0.98 0.98 0.98]\n",
            " [1.   1.   0.  ]\n",
            " [1.   0.01 0.99]\n",
            " [1.   0.01 0.01]\n",
            " [0.   1.   1.  ]\n",
            " [0.01 1.   0.01]\n",
            " [0.01 0.01 0.99]\n",
            " [0.   0.   0.01]]\n"
          ],
          "name": "stdout"
        },
        {
          "output_type": "display_data",
          "data": {
            "image/png": "[encoded data removed]",
            "text/plain": [
              "<matplotlib.figure.Figure at 0x7f2ff8c5b320>"
            ]
          },
          "metadata": {
            "tags": []
          }
        }
      ]
    },
    {
      "metadata": {
        "id": "kLWOP65rBbEh",
        "colab_type": "code",
        "colab": {
          "autoexec": {
            "startup": false,
            "wait_interval": 0
          }
        }
      },
      "source": [
        ""
      ],
      "cell_type": "code",
      "execution_count": 0,
      "outputs": []
    }
  ]
}